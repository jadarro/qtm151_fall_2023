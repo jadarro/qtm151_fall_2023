{
 "cells": [
  {
   "cell_type": "code",
   "execution_count": null,
   "metadata": {},
   "outputs": [],
   "source": []
  },
  {
   "cell_type": "markdown",
   "metadata": {},
   "source": [
    "# <span style=\"color:darkblue\"> Lecture 15 - Practicing Chaining </span>\n",
    "\n",
    "<font size = \"5\">\n",
    "\n",
    "In this lecture you will get a chance to practice <br>\n",
    "the main dataset operations\n",
    "\n",
    "- There will be a quiz on this lecture"
   ]
  },
  {
   "cell_type": "markdown",
   "metadata": {},
   "source": [
    "# <span style=\"color:darkblue\"> I. Import Libraries and Data </span>\n"
   ]
  },
  {
   "cell_type": "code",
   "execution_count": null,
   "metadata": {},
   "outputs": [],
   "source": [
    "import numpy as np\n",
    "import pandas as pd\n",
    "import matplotlib.pyplot as plt"
   ]
  },
  {
   "cell_type": "code",
   "execution_count": null,
   "metadata": {},
   "outputs": [],
   "source": [
    "results  = pd.read_csv(\"data_raw/results.csv\")\n",
    "races    = pd.read_csv(\"data_raw/races.csv\")\n",
    "results[\"points col\"] = results[\"points\"]"
   ]
  },
  {
   "cell_type": "markdown",
   "metadata": {},
   "source": [
    "# <span style=\"color:darkblue\"> II. Review of Diagnostic Commands </span>\n"
   ]
  },
  {
   "cell_type": "markdown",
   "metadata": {},
   "source": [
    "<font size = \"5\">\n",
    "\n",
    "More details ...\n",
    "\n",
    "https://www.w3schools.com/python/pandas/pandas_cleaning.asp"
   ]
  },
  {
   "cell_type": "code",
   "execution_count": null,
   "metadata": {},
   "outputs": [],
   "source": [
    "# (a) Count number of observations\n",
    "n_total   = len(results)\n",
    "\n",
    "# (b) Count non-missing observations\n",
    "n_nonmiss = results[\"points\"].count()\n",
    "\n",
    "# (b) Get column names\n",
    "list_names = results.columns.names\n",
    "\n",
    "# (c) Unique values\n",
    "list_ids   = pd.unique(results[\"constructorId\"])\n"
   ]
  },
  {
   "cell_type": "markdown",
   "metadata": {},
   "source": [
    "# <span style=\"color:darkblue\"> II. Examples of Dataset Operations </span>\n",
    "\n",
    "<font size = \"5\">\n",
    "\n",
    "Full list of commands here:\n",
    "\n",
    "https://www.w3schools.com/python/pandas/pandas_ref_dataframe.asp"
   ]
  },
  {
   "cell_type": "markdown",
   "metadata": {},
   "source": [
    "<font size = \"5\">\n",
    "\n",
    "```[] ```: Extracting columns"
   ]
  },
  {
   "cell_type": "code",
   "execution_count": null,
   "metadata": {},
   "outputs": [],
   "source": [
    "subset_cols = results[[\"constructorId\",\"points\",\"laps\"]]"
   ]
  },
  {
   "cell_type": "markdown",
   "metadata": {},
   "source": [
    "<font size = \"5\">\n",
    "\n",
    "```.query() ```: Filtering a subset of rows"
   ]
  },
  {
   "cell_type": "code",
   "execution_count": null,
   "metadata": {},
   "outputs": [],
   "source": [
    "lower_value          = 20\n",
    "subset_row_text      = races.query('name == \"Australian Grand Prix\"')\n",
    "subset_row_ineq      = results.query('(points >= 20) & (points <= 30)')\n",
    "subset_row_global    = results.query('(points >= @lower_value)')\n",
    "subset_row_colspaces = results.query('(`points col` >= @lower_value)')"
   ]
  },
  {
   "cell_type": "markdown",
   "metadata": {},
   "source": [
    "<font size = \"5\">\n",
    "\n",
    "```.recode() ```: Replacing values"
   ]
  },
  {
   "cell_type": "code",
   "execution_count": null,
   "metadata": {},
   "outputs": [],
   "source": [
    "results   = results.replace(to_replace = [\"UK\",\"USA\"],\n",
    "                            value = [\"United Kingdom\",\"United States\"])"
   ]
  },
  {
   "cell_type": "markdown",
   "metadata": {},
   "source": [
    "<font size = \"5\">\n",
    "\n",
    "```.groupby().agg() ```: Aggregate statistics by subgroup"
   ]
  },
  {
   "cell_type": "code",
   "execution_count": null,
   "metadata": {},
   "outputs": [],
   "source": [
    "results_agg = results.groupby(\"driverId\").agg( median_points = (\"points\",\"median\"))"
   ]
  },
  {
   "cell_type": "markdown",
   "metadata": {},
   "source": [
    "<font size = \"5\">\n",
    "\n",
    "```.rename() ```: Change name of columns"
   ]
  },
  {
   "cell_type": "code",
   "execution_count": null,
   "metadata": {},
   "outputs": [],
   "source": [
    "races_rename = races.rename(columns = {\"name\": \"new_name\"})"
   ]
  }
 ],
 "metadata": {
  "language_info": {
   "name": "python"
  }
 },
 "nbformat": 4,
 "nbformat_minor": 2
}
